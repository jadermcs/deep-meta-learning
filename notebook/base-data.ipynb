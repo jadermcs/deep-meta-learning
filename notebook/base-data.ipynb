{
 "cells": [
  {
   "cell_type": "code",
   "execution_count": 60,
   "id": "exotic-adrian",
   "metadata": {},
   "outputs": [],
   "source": [
    "import os\n",
    "import pandas as pd\n",
    "import numpy as np\n",
    "from scipy.io.arff import loadarff\n",
    "from sklearn.linear_model import LogisticRegression\n",
    "from sklearn.ensemble import RandomForestClassifier\n",
    "from sklearn.model_selection import StratifiedKFold"
   ]
  },
  {
   "cell_type": "markdown",
   "id": "previous-queue",
   "metadata": {},
   "source": [
    "## TODO\n",
    "- shuffle columns except class\n",
    "- save dataframes with {name}\\_{mean_score}\\_{std_score}.csv"
   ]
  },
  {
   "cell_type": "code",
   "execution_count": 64,
   "id": "lonely-dressing",
   "metadata": {},
   "outputs": [
    {
     "name": "stdout",
     "output_type": "stream",
     "text": [
      "133\n"
     ]
    }
   ],
   "source": [
    "path = '../data/'\n",
    "count = 0\n",
    "for f in os.listdir(path):\n",
    "    data, _ = loadarff(path+f)\n",
    "    sampler = pd.DataFrame(data)\n",
    "    if sampler.shape[0] < 1000:\n",
    "        continue\n",
    "    else:\n",
    "        count += 1\n",
    "        continue\n",
    "    for i in range(300):\n",
    "        df = sampler.sample(500, replace=True)\n",
    "        X = df.drop([\"class\"], axis=1)\n",
    "        y = df[\"class\"].astype(int)\n",
    "        kfold = StratifiedKFold(n_splits=5, shuffle=True, random_state=42)\n",
    "        scores = []\n",
    "        for train_idx, test_idx in kfold.split(X, y):\n",
    "            X_train, y_train = X.iloc[train_idx], y.iloc[train_idx]\n",
    "            X_test, y_test = X.iloc[test_idx], y.iloc[test_idx]\n",
    "            rf = RandomForestClassifier()\n",
    "            rf.fit(X_train, y_train)\n",
    "            scores.append(rf.score(X_test, y_test))\n",
    "        print(np.mean(scores), np.std(scores))\n",
    "    break\n",
    "print(count)"
   ]
  },
  {
   "cell_type": "code",
   "execution_count": null,
   "id": "engaging-snapshot",
   "metadata": {},
   "outputs": [],
   "source": []
  }
 ],
 "metadata": {
  "kernelspec": {
   "display_name": "Python 3",
   "language": "python",
   "name": "python3"
  },
  "language_info": {
   "codemirror_mode": {
    "name": "ipython",
    "version": 3
   },
   "file_extension": ".py",
   "mimetype": "text/x-python",
   "name": "python",
   "nbconvert_exporter": "python",
   "pygments_lexer": "ipython3",
   "version": "3.6.9"
  }
 },
 "nbformat": 4,
 "nbformat_minor": 5
}
