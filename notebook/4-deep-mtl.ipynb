{
 "cells": [
  {
   "cell_type": "code",
   "execution_count": 1,
   "id": "variable-invention",
   "metadata": {},
   "outputs": [],
   "source": [
    "import os\n",
    "import pandas as pd\n",
    "import numpy as np\n",
    "import copy\n",
    "import torch\n",
    "import math\n",
    "import pytorch_lightning as pl\n",
    "from torch import nn\n",
    "from torch.nn.utils.rnn import pad_sequence\n",
    "import torch.nn.functional as F\n",
    "from typing import Optional, Any\n",
    "from torch.utils.data import DataLoader, Dataset\n",
    "import pytorch_lightning.callbacks as cb\n",
    "from pytorch_lightning.loggers import WandbLogger"
   ]
  },
  {
   "cell_type": "markdown",
   "id": "protecting-metropolitan",
   "metadata": {},
   "source": [
    "## TODO\n",
    "- implement selfsupervised as in [TabNet](https://arxiv.org/pdf/1908.07442.pdf)\n",
    "- implement mask?\n",
    "- pad datasets to same size and average all outputs and compute the regression on them, like  [this](https://keras.io/examples/nlp/text_classification_with_transformer/) OR the BERT approach, like [this](https://stackoverflow.com/questions/58123393/how-to-use-transformers-for-text-classification)\n",
    "- regress for bounded target like [this](https://stats.stackexchange.com/questions/11985/how-to-model-bounded-target-variable) or [this](https://stackoverflow.com/questions/51693567/best-way-to-bound-outputs-from-neural-networks-on-reinforcement-learning)\n",
    "- loss crossentropy or mse?\n",
    "- add more algorithms for regression with multitask\n",
    "- finetune for tree depth, svm kernel, etc\n",
    "- selfsupervise for data imputation (like in TabNet)\n",
    "- finetune for best pre-processing pipeline\n",
    "- inspect attention plots(?)"
   ]
  },
  {
   "cell_type": "code",
   "execution_count": 2,
   "id": "associate-account",
   "metadata": {},
   "outputs": [],
   "source": [
    "class BaseDataDataset(Dataset):\n",
    "    def __init__(self, path, mode='regression'):\n",
    "        self.path = path\n",
    "        self.files = np.array(os.listdir(path))\n",
    "        \n",
    "    def __len__(self):\n",
    "        return len(self.files)\n",
    "    \n",
    "    def __getitem__(self, idx):\n",
    "        if torch.is_tensor(idx):\n",
    "            idx = idx.tolist()\n",
    "        name = self.files[idx]\n",
    "        data = pd.get_dummies(pd.read_csv(self.path+name), columns=[\"class\"])\n",
    "        data = data.values.astype(float).T\n",
    "        data = F.pad(torch.tensor(data), (0, 0, 0, 200-data.shape[0])).float()\n",
    "        # target = [float(name.split('_')[-3])]\n",
    "        target = [float(x) for x in name.split('_')[-3:-1]]\n",
    "        if mode == 'ragression':\n",
    "            target = torch.tensor(target).float()\n",
    "        else:\n",
    "            target = \n",
    "        return data, target"
   ]
  },
  {
   "cell_type": "code",
   "execution_count": 3,
   "id": "foster-cleaners",
   "metadata": {},
   "outputs": [],
   "source": [
    "class Encoder(nn.Module):\n",
    "    \n",
    "    def __init__(self, d_model, nhead, dim_feedforward=256, dropout=0.1):\n",
    "        super(Encoder, self).__init__()\n",
    "        self.self_attn = nn.MultiheadAttention(d_model, nhead, dropout=dropout)\n",
    "        self.linear1 = nn.Linear(d_model, dim_feedforward)\n",
    "        self.dropout = nn.Dropout(dropout)\n",
    "        self.linear2 = nn.Linear(dim_feedforward, d_model)\n",
    "\n",
    "        self.norm1 = nn.LayerNorm(d_model)\n",
    "        self.norm2 = nn.LayerNorm(d_model)\n",
    "        self.dropout1 = nn.Dropout(dropout)\n",
    "        self.dropout2 = nn.Dropout(dropout)\n",
    "\n",
    "        self.activation = F.relu\n",
    "\n",
    "    def forward(self, src: torch.Tensor, src_mask: Optional[torch.Tensor] = None) -> torch.Tensor:\n",
    "        src2 = self.self_attn(src, src, src, attn_mask=src_mask)[0]\n",
    "        src = src + self.dropout1(src2)\n",
    "        src = self.norm1(src)\n",
    "        src2 = self.linear2(self.dropout(self.activation(self.linear1(src))))\n",
    "        src = src + self.dropout2(src2)\n",
    "        src = self.norm2(src)\n",
    "        return src"
   ]
  },
  {
   "cell_type": "code",
   "execution_count": 4,
   "id": "modern-anchor",
   "metadata": {},
   "outputs": [],
   "source": [
    "class AttentionMetaExtractor(pl.LightningModule):\n",
    "    \n",
    "    def __init__(self, ninp, noutput, nhead=5, nhid=256, lr=1e-3, nlayers=12, dropout=.25):\n",
    "        super(AttentionMetaExtractor, self).__init__()\n",
    "        self.model_type = 'Transformer'\n",
    "        encoder_block = Encoder(ninp, nhead, nhid)\n",
    "        self.encoder = nn.ModuleList([copy.deepcopy(encoder_block) for _ in range(nlayers)])\n",
    "        self.decoder = nn.Linear(ninp, nhid)\n",
    "        self.output = nn.Linear(nhid, noutput)\n",
    "        self.activation = F.relu\n",
    "        self.dropout1 = nn.Dropout(dropout)\n",
    "        self.dropout2 = nn.Dropout(dropout)\n",
    "        self.learning_rate = lr\n",
    "        \n",
    "    def forward(self, src: torch.Tensor) -> torch.Tensor:\n",
    "        output = src\n",
    "        for block in self.encoder:\n",
    "            output = block(output)\n",
    "        output = torch.mean(output, dim=1)\n",
    "        output = self.dropout1(output)\n",
    "        output = self.dropout2(self.activation(self.decoder(output)))\n",
    "        output = self.activation(self.output(output))\n",
    "        return output\n",
    "    \n",
    "    def training_step(self, batch, batch_idx):\n",
    "        x, y = batch\n",
    "        output = self.forward(x)\n",
    "        loss = F.l1_loss(output, y)\n",
    "        self.log('train_loss', loss)\n",
    "        return loss\n",
    "    \n",
    "    def validation_step(self, batch, batch_idx):\n",
    "        x, y = batch\n",
    "        output = self.forward(x)\n",
    "        loss = F.l1_loss(output, y)\n",
    "        self.log('valid_loss', loss)\n",
    "        self.log('valid_mse', F.mse_loss(output, y))\n",
    "        return loss\n",
    "    \n",
    "    def configure_optimizers(self):\n",
    "        optimizer = torch.optim.AdamW(self.parameters(), lr=self.learning_rate, amsgrad=True)\n",
    "        scheduler = {'scheduler': torch.optim.lr_scheduler.ReduceLROnPlateau(optimizer),\n",
    "                     'monitor': 'valid_loss',\n",
    "                     'name': 'ReduceLROnPlateau'}\n",
    "        return [optimizer], [scheduler]"
   ]
  },
  {
   "cell_type": "code",
   "execution_count": 5,
   "id": "modular-password",
   "metadata": {},
   "outputs": [],
   "source": [
    "batch_size = 128\n",
    "\n",
    "base_data_train = DataLoader(BaseDataDataset(\"../samples_train/\"), batch_size=batch_size,\n",
    "                             shuffle=True, num_workers=8)\n",
    "base_data_valid = DataLoader(BaseDataDataset(\"../samples_valid/\"), batch_size=batch_size,\n",
    "                             num_workers=8)"
   ]
  },
  {
   "cell_type": "code",
   "execution_count": 6,
   "id": "unlikely-preparation",
   "metadata": {},
   "outputs": [],
   "source": [
    "ninp = 256 # number of rows in base data\n",
    "nhead = 8\n",
    "# noutput = 1 # number of algorithms accuracies being regressed\n",
    "noutput = 2 # number of algorithms accuracies being regressed\n",
    "nhid = 128\n",
    "lr = 1e-3\n",
    "blocks = 8\n",
    "dropout = 0.1"
   ]
  },
  {
   "cell_type": "code",
   "execution_count": 7,
   "id": "included-median",
   "metadata": {},
   "outputs": [],
   "source": [
    "early_stop_callback = cb.early_stopping.EarlyStopping(\n",
    "    monitor='valid_loss',\n",
    "    min_delta=0.00,\n",
    "    patience=10,\n",
    "    verbose=False,\n",
    "    mode='min'\n",
    ")\n",
    "lr_monitor = cb.LearningRateMonitor(logging_interval='step')\n",
    "checkpoint_callback = cb.ModelCheckpoint(monitor='valid_loss')\n",
    "wandb_logger = WandbLogger(name=f'AdamW-{batch_size}-{lr:.3}-{blocks}-{dropout}-{noutput}',project='deepmtl')"
   ]
  },
  {
   "cell_type": "code",
   "execution_count": 8,
   "id": "ready-vietnam",
   "metadata": {},
   "outputs": [],
   "source": [
    "model = AttentionMetaExtractor(ninp, noutput, nhead, nhid, lr, blocks, dropout=dropout)"
   ]
  },
  {
   "cell_type": "code",
   "execution_count": 9,
   "id": "atomic-premises",
   "metadata": {
    "scrolled": false
   },
   "outputs": [
    {
     "name": "stderr",
     "output_type": "stream",
     "text": [
      "GPU available: True, used: True\n",
      "TPU available: None, using: 0 TPU cores\n",
      "\u001b[34m\u001b[1mwandb\u001b[0m: Currently logged in as: \u001b[33mjadermcs\u001b[0m (use `wandb login --relogin` to force relogin)\n"
     ]
    },
    {
     "data": {
      "text/html": [
       "\n",
       "                Tracking run with wandb version 0.10.24<br/>\n",
       "                Syncing run <strong style=\"color:#cdcd00\">AdamW-128-0.001-8-0.1-2</strong> to <a href=\"https://wandb.ai\" target=\"_blank\">Weights & Biases</a> <a href=\"https://docs.wandb.com/integrations/jupyter.html\" target=\"_blank\">(Documentation)</a>.<br/>\n",
       "                Project page: <a href=\"https://wandb.ai/jadermcs/deepmtl\" target=\"_blank\">https://wandb.ai/jadermcs/deepmtl</a><br/>\n",
       "                Run page: <a href=\"https://wandb.ai/jadermcs/deepmtl/runs/1nyc0tjz\" target=\"_blank\">https://wandb.ai/jadermcs/deepmtl/runs/1nyc0tjz</a><br/>\n",
       "                Run data is saved locally in <code>/home/jader/Projects/deep-meta-learning/notebook/wandb/run-20210405_201255-1nyc0tjz</code><br/><br/>\n",
       "            "
      ],
      "text/plain": [
       "<IPython.core.display.HTML object>"
      ]
     },
     "metadata": {},
     "output_type": "display_data"
    },
    {
     "name": "stderr",
     "output_type": "stream",
     "text": [
      "\n",
      "  | Name     | Type       | Params\n",
      "----------------------------------------\n",
      "0 | encoder  | ModuleList | 2.6 M \n",
      "1 | decoder  | Linear     | 32.9 K\n",
      "2 | output   | Linear     | 258   \n",
      "3 | dropout1 | Dropout    | 0     \n",
      "4 | dropout2 | Dropout    | 0     \n",
      "----------------------------------------\n",
      "2.7 M     Trainable params\n",
      "0         Non-trainable params\n",
      "2.7 M     Total params\n",
      "10.696    Total estimated model params size (MB)\n"
     ]
    },
    {
     "data": {
      "application/vnd.jupyter.widget-view+json": {
       "model_id": "",
       "version_major": 2,
       "version_minor": 0
      },
      "text/plain": [
       "Validation sanity check: 0it [00:00, ?it/s]"
      ]
     },
     "metadata": {},
     "output_type": "display_data"
    },
    {
     "data": {
      "application/vnd.jupyter.widget-view+json": {
       "model_id": "4ef146d6360a4eae93a7fab12a3f0763",
       "version_major": 2,
       "version_minor": 0
      },
      "text/plain": [
       "Training: 0it [00:00, ?it/s]"
      ]
     },
     "metadata": {},
     "output_type": "display_data"
    },
    {
     "data": {
      "application/vnd.jupyter.widget-view+json": {
       "model_id": "",
       "version_major": 2,
       "version_minor": 0
      },
      "text/plain": [
       "Validating: 0it [00:00, ?it/s]"
      ]
     },
     "metadata": {},
     "output_type": "display_data"
    },
    {
     "data": {
      "application/vnd.jupyter.widget-view+json": {
       "model_id": "",
       "version_major": 2,
       "version_minor": 0
      },
      "text/plain": [
       "Validating: 0it [00:00, ?it/s]"
      ]
     },
     "metadata": {},
     "output_type": "display_data"
    },
    {
     "data": {
      "application/vnd.jupyter.widget-view+json": {
       "model_id": "",
       "version_major": 2,
       "version_minor": 0
      },
      "text/plain": [
       "Validating: 0it [00:00, ?it/s]"
      ]
     },
     "metadata": {},
     "output_type": "display_data"
    },
    {
     "name": "stderr",
     "output_type": "stream",
     "text": [
      "/home/jader/Projects/deep-meta-learning/venv/lib/python3.8/site-packages/pytorch_lightning/utilities/distributed.py:51: UserWarning: Detected KeyboardInterrupt, attempting graceful shutdown...\n",
      "  warnings.warn(*args, **kwargs)\n"
     ]
    },
    {
     "data": {
      "text/plain": [
       "1"
      ]
     },
     "execution_count": 9,
     "metadata": {},
     "output_type": "execute_result"
    }
   ],
   "source": [
    "trainer = pl.Trainer(gpus=-1, logger=wandb_logger, max_epochs=100,\n",
    "                     callbacks=[early_stop_callback, lr_monitor, checkpoint_callback])\n",
    "trainer.fit(model, base_data_train, base_data_valid)"
   ]
  }
 ],
 "metadata": {
  "kernelspec": {
   "display_name": "Python 3",
   "language": "python",
   "name": "python3"
  },
  "language_info": {
   "codemirror_mode": {
    "name": "ipython",
    "version": 3
   },
   "file_extension": ".py",
   "mimetype": "text/x-python",
   "name": "python",
   "nbconvert_exporter": "python",
   "pygments_lexer": "ipython3",
   "version": "3.8.5"
  }
 },
 "nbformat": 4,
 "nbformat_minor": 5
}
