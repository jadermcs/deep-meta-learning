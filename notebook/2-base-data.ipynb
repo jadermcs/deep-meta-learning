{
 "cells": [
  {
   "cell_type": "code",
   "execution_count": 2,
   "id": "exotic-adrian",
   "metadata": {},
   "outputs": [],
   "source": [
    "import os\n",
    "import random\n",
    "import pandas as pd\n",
    "import numpy as np\n",
    "from sklearn.neighbors import KNeighborsClassifier\n",
    "from sklearn.tree import DecisionTreeClassifier\n",
    "from sklearn.model_selection import KFold\n",
    "from sklearn.preprocessing import robust_scale\n",
    "from sklearn.metrics import f1_score\n",
    "from fastprogress.fastprogress import master_bar, progress_bar\n",
    "from sklearn.utils import resample"
   ]
  },
  {
   "cell_type": "code",
   "execution_count": 3,
   "id": "frank-delight",
   "metadata": {},
   "outputs": [],
   "source": [
    "seed = 42\n",
    "random.seed(seed)"
   ]
  },
  {
   "cell_type": "markdown",
   "id": "previous-queue",
   "metadata": {},
   "source": [
    "## TODO\n",
    "- save dataframes with {name}\\_{mean_score}\\_{std_score}.csv\n",
    "- initially test only on classical suite than extend to all classification datasets\n",
    "- noise injection for \"data augmentation\"\n",
    "- explore other data augmentation\n",
    "- hot encoding (as being applied in openml) could be terrible option, try target encoding or other method\n",
    "- save robust scaler to disk\n",
    "- check if scaler is not biased\n",
    "- check if target encoder is not biased\n",
    "- shuffle all columns except class\n",
    "- get dummies drop dependent?"
   ]
  },
  {
   "cell_type": "code",
   "execution_count": 4,
   "id": "chemical-begin",
   "metadata": {},
   "outputs": [],
   "source": [
    "path = '../data/'\n",
    "\n",
    "os.makedirs('../samples_train', exist_ok=True)\n",
    "os.makedirs('../samples_valid', exist_ok=True)"
   ]
  },
  {
   "cell_type": "code",
   "execution_count": 5,
   "id": "coupled-debut",
   "metadata": {},
   "outputs": [],
   "source": [
    "train_valid = pd.read_csv(\"../data.csv\")\n",
    "train_valid = train_valid[train_valid.train==False].files.tolist()"
   ]
  },
  {
   "cell_type": "code",
   "execution_count": 6,
   "id": "olive-provision",
   "metadata": {},
   "outputs": [],
   "source": [
    "clf1 = DecisionTreeClassifier(random_state=seed)\n",
    "clf2 = KNeighborsClassifier()"
   ]
  },
  {
   "cell_type": "code",
   "execution_count": 7,
   "id": "1a64f6c8",
   "metadata": {},
   "outputs": [],
   "source": [
    "mb = master_bar(os.listdir(path))\n",
    "count = 0\n",
    "\n",
    "aug_size = 128\n",
    "percentage_valid = .1\n",
    "fold = 5\n",
    "sample_size = 256"
   ]
  },
  {
   "cell_type": "code",
   "execution_count": 8,
   "id": "lonely-dressing",
   "metadata": {
    "scrolled": false
   },
   "outputs": [
    {
     "data": {
      "text/html": [],
      "text/plain": [
       "<IPython.core.display.HTML object>"
      ]
     },
     "metadata": {},
     "output_type": "display_data"
    }
   ],
   "source": [
    "for f in mb:\n",
    "    mb.main_bar.comment = f'Files'\n",
    "    data = pd.read_csv(path+f).dropna()\n",
    "    if data.shape[0] < 150 or data.shape[1] > 256:\n",
    "        continue\n",
    "    majority_class = data[\"class\"].value_counts().sort_values().index[-1]\n",
    "    data[\"class\"] = (data[\"class\"] == majority_class).astype(int)\n",
    "    X = data.drop(columns=[\"class\"]).values\n",
    "    X = robust_scale(X)\n",
    "    y = data[\"class\"].values\n",
    "    if y.dtype == float or any(np.unique(y, return_counts=True)[1] < fold):\n",
    "        print(f\"{f} has a continuous y value or too imbalanced.\")\n",
    "        continue\n",
    "    for i in progress_bar(range(aug_size), parent=mb):\n",
    "        Xsample, ysample = resample(X, y, n_samples=sample_size, random_state=seed+i, stratify=y)\n",
    "        kfold = KFold(n_splits=fold, shuffle=True, random_state=seed)\n",
    "        scores1 = []\n",
    "        scores2 = []\n",
    "        for train_idx, test_idx in kfold.split(Xsample, ysample):\n",
    "            X_train, y_train = Xsample[train_idx], ysample[train_idx]\n",
    "            X_test, y_test = Xsample[test_idx], ysample[test_idx]\n",
    "            clf1.fit(X_train, y_train)\n",
    "            scores1.append(f1_score(y_test, clf1.predict(X_test), average='weighted'))\n",
    "            clf2.fit(X_train, y_train)\n",
    "            scores2.append(f1_score(y_test, clf2.predict(X_test), average='weighted'))\n",
    "        df_X = pd.DataFrame(Xsample)\n",
    "        df_X = df_X[random.sample(df_X.columns.to_list(), len(df_X.columns))]\n",
    "        df = pd.concat([df_X, pd.DataFrame({'class': ysample})], axis=1)\n",
    "        if f not in train_valid:\n",
    "            df.to_csv('../samples_train/'+f'{f}_{np.mean(scores1):.5f}_{np.mean(scores2):.5f}_{i}.csv',\n",
    "                      index=False)\n",
    "        else:\n",
    "            df.to_csv('../samples_valid/'+f'{f}_{np.mean(scores1):.5f}_{np.mean(scores2):.5f}_{i}.csv',\n",
    "                      index=False)\n",
    "        mb.child.comment = f'Sampler'\n",
    "        count += 1"
   ]
  },
  {
   "cell_type": "code",
   "execution_count": 9,
   "id": "reasonable-rates",
   "metadata": {},
   "outputs": [
    {
     "name": "stdout",
     "output_type": "stream",
     "text": [
      "Number of datasets exported: 36992\n"
     ]
    }
   ],
   "source": [
    "print(\"Number of datasets exported:\", count)"
   ]
  }
 ],
 "metadata": {
  "kernelspec": {
   "display_name": "Python 3",
   "language": "python",
   "name": "python3"
  },
  "language_info": {
   "codemirror_mode": {
    "name": "ipython",
    "version": 3
   },
   "file_extension": ".py",
   "mimetype": "text/x-python",
   "name": "python",
   "nbconvert_exporter": "python",
   "pygments_lexer": "ipython3",
   "version": "3.8.10"
  }
 },
 "nbformat": 4,
 "nbformat_minor": 5
}
