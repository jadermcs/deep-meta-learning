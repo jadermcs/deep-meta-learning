{
 "cells": [
  {
   "cell_type": "code",
   "execution_count": 1,
   "id": "funky-liquid",
   "metadata": {},
   "outputs": [],
   "source": [
    "import os"
   ]
  },
  {
   "cell_type": "markdown",
   "id": "appreciated-orchestra",
   "metadata": {},
   "source": [
    "## TODO\n",
    "- extract meta-features\n",
    "- select k best features (k=8,16,32,64,128,all)\n",
    "- induce models in meta-features (lightgbm,rf,tabnet) to compare the rmse/mae with deep meta-learning approach"
   ]
  },
  {
   "cell_type": "code",
   "execution_count": null,
   "id": "bridal-batch",
   "metadata": {},
   "outputs": [],
   "source": []
  }
 ],
 "metadata": {
  "kernelspec": {
   "display_name": "Python 3",
   "language": "python",
   "name": "python3"
  },
  "language_info": {
   "codemirror_mode": {
    "name": "ipython",
    "version": 3
   },
   "file_extension": ".py",
   "mimetype": "text/x-python",
   "name": "python",
   "nbconvert_exporter": "python",
   "pygments_lexer": "ipython3",
   "version": "3.6.9"
  }
 },
 "nbformat": 4,
 "nbformat_minor": 5
}
