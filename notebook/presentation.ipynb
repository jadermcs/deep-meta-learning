{
 "cells": [
  {
   "cell_type": "markdown",
   "id": "selective-tomato",
   "metadata": {},
   "source": [
    "# Deep Meta-Learning"
   ]
  },
  {
   "cell_type": "markdown",
   "id": "banner-delhi",
   "metadata": {},
   "source": [
    "![Transformer Architecture](img/seq2seq.png)"
   ]
  },
  {
   "cell_type": "markdown",
   "id": "adolescent-operator",
   "metadata": {
    "slideshow": {
     "slide_type": "slide"
    }
   },
   "source": [
    "## The Transformer Architecture\n",
    "![Transformer Architecture](img/transformer1.png)"
   ]
  },
  {
   "cell_type": "markdown",
   "id": "polish-waters",
   "metadata": {
    "slideshow": {
     "slide_type": "slide"
    }
   },
   "source": [
    "### Self Attention\n",
    "![Transformer Architecture](img/transformer2.png)"
   ]
  },
  {
   "cell_type": "markdown",
   "id": "cubic-notification",
   "metadata": {
    "slideshow": {
     "slide_type": "slide"
    }
   },
   "source": [
    "### K, Q, V\n",
    "![Transformer Architecture](img/transformer3.png)\n",
    "\n",
    "![Transformer Architecture](img/transformer4.png)"
   ]
  },
  {
   "cell_type": "markdown",
   "id": "humanitarian-lawyer",
   "metadata": {
    "slideshow": {
     "slide_type": "slide"
    }
   },
   "source": [
    "### X encoded as Z\n",
    "![Transformer Architecture](img/transformer5.png)"
   ]
  },
  {
   "cell_type": "markdown",
   "id": "improved-child",
   "metadata": {},
   "source": [
    "### Correlation Matrix\n",
    "\n",
    "![Transformer Architecture](img/attention1.png)"
   ]
  },
  {
   "cell_type": "markdown",
   "id": "civilian-mortgage",
   "metadata": {},
   "source": [
    "## TabNet\n",
    "\n",
    "![Transformer Architecture](img/tabnet.png)\n",
    "\n",
    "![Transformer Architecture](img/mask.png)"
   ]
  },
  {
   "cell_type": "markdown",
   "id": "worse-publicity",
   "metadata": {},
   "source": [
    "## Ideas\n",
    "\n",
    "### Architecture\n",
    "#### Positional Encoding\n",
    "- Add an increasing value for same rows\n",
    "\n",
    "#### Data Augmentation\n",
    "- Noise injection in data\n",
    "- Synthetic data\n",
    "\n",
    "### Applications\n",
    "#### Transfer Learning\n",
    "\n",
    "#### Regression\n",
    "- accuracy classifiers\n",
    "- regularization term in a base model\n",
    "\n",
    "#### Classification\n",
    "- Predict best classifier\n",
    "- Predict best kernel for SVM\n",
    "\n",
    "#### Data Imputation"
   ]
  },
  {
   "cell_type": "code",
   "execution_count": null,
   "id": "legal-reduction",
   "metadata": {},
   "outputs": [],
   "source": []
  }
 ],
 "metadata": {
  "kernelspec": {
   "display_name": "Python 3",
   "language": "python",
   "name": "python3"
  },
  "language_info": {
   "codemirror_mode": {
    "name": "ipython",
    "version": 3
   },
   "file_extension": ".py",
   "mimetype": "text/x-python",
   "name": "python",
   "nbconvert_exporter": "python",
   "pygments_lexer": "ipython3",
   "version": "3.8.5"
  }
 },
 "nbformat": 4,
 "nbformat_minor": 5
}
